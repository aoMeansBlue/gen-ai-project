{
 "cells": [
  {
   "cell_type": "code",
   "execution_count": null,
   "id": "0863274f",
   "metadata": {},
   "outputs": [],
   "source": [
    "import sqlite3\n",
    "import random\n",
    "from datetime import datetime, timedelta\n",
    "\n",
    "# Connect to SQLite\n",
    "conn = sqlite3.connect(\"Manga.db\") #Insert the sqllite file location here\n",
    "cur = conn.cursor()\n",
    "\n",
    "# Create table without synopsis\n",
    "cur.execute(\"\"\"\n",
    "CREATE TABLE IF NOT EXISTS manga (\n",
    "    id INTEGER PRIMARY KEY AUTOINCREMENT,\n",
    "    title TEXT,\n",
    "    genre TEXT,\n",
    "    author TEXT,\n",
    "    date_published TEXT,\n",
    "    rating REAL\n",
    ")\n",
    "\"\"\")\n",
    "\n",
    "# Sample data pools\n",
    "titles = [\"Mystic Journey\", \"Samurai Spirit\", \"Love in Tokyo\", \"Cyber Future\", \"Detective Chronicles\", \n",
    "          \"Dragon Wars\", \"Hidden Village\", \"Haunted School\", \"Starship Rangers\", \"Cherry Blossoms\"]\n",
    "genres = [\"Fantasy\", \"Action\", \"Romance\", \"Sci-Fi\", \"Mystery\", \"Adventure\", \"Horror\"]\n",
    "authors = [\"Aya Tanaka\", \"Kenji Sato\", \"Yumi Hara\", \"Hiroshi Nakano\", \"Rika Fujimoto\", \n",
    "           \"Takeshi Ito\", \"Sakura Mori\", \"Akira Yamamoto\", \"Naoki Fujita\", \"Emi Kato\"]\n",
    "\n",
    "# Insert 100 random rows\n",
    "for _ in range(100):\n",
    "    title = random.choice(titles) + f\" {random.randint(1,50)}\"\n",
    "    genre = random.choice(genres)\n",
    "    author = random.choice(authors)\n",
    "    # Random date between 2010-01-01 and 2023-12-31\n",
    "    start_date = datetime(2010, 1, 1)\n",
    "    end_date = datetime(2023, 12, 31)\n",
    "    date_published = start_date + (end_date - start_date) * random.random()\n",
    "    date_published = date_published.strftime(\"%Y-%m-%d\")\n",
    "    rating = round(random.uniform(5.0, 10.0), 1)\n",
    "\n",
    "    cur.execute(\n",
    "        \"INSERT INTO manga (title, genre, author, date_published, rating) VALUES (?, ?, ?, ?, ?)\",\n",
    "        (title, genre, author, date_published, rating)\n",
    "    )\n",
    "\n",
    "conn.commit()\n",
    "conn.close()\n",
    "print(\"Inserted 100 random manga records without synopsis.\")\n"
   ]
  }
 ],
 "metadata": {
  "language_info": {
   "name": "python"
  }
 },
 "nbformat": 4,
 "nbformat_minor": 5
}
